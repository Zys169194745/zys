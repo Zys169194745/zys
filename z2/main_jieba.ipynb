{
 "cells": [
  {
   "cell_type": "markdown",
   "id": "15512ac6-9374-4a2c-af6e-c7e61494e6b2",
   "metadata": {},
   "source": [
    "# 结巴分类实践"
   ]
  },
  {
   "cell_type": "markdown",
   "id": "17fe330a-69f6-42df-a57f-2629fa8db0b7",
   "metadata": {},
   "source": [
    "## 结巴分词三种模式"
   ]
  },
  {
   "cell_type": "markdown",
   "id": "e2b1104a-535d-44cc-9ae5-c2fb9b49c54c",
   "metadata": {},
   "source": [
    "### 全模式"
   ]
  },
  {
   "cell_type": "code",
   "execution_count": 3,
   "id": "72fd16ea-2757-4742-8a20-1e6b2cf9029e",
   "metadata": {},
   "outputs": [
    {
     "name": "stdout",
     "output_type": "stream",
     "text": [
      "Full Mode: 我/来到/北京/清华/清华大学/华大/大学\n"
     ]
    }
   ],
   "source": [
    "import jieba\n",
    "seg_list = jieba.cut(\"我来到北京清华大学\", cut_all=True)\n",
    "print(\"Full Mode: \" + \"/\".join(seg_list))  # 全模式"
   ]
  },
  {
   "cell_type": "markdown",
   "id": "54fdebad-1dad-4a1c-a58f-e0277f6e7cfd",
   "metadata": {},
   "source": [
    "### 精确模式"
   ]
  },
  {
   "cell_type": "code",
   "execution_count": 4,
   "id": "b07b184d-8012-4cba-aa18-34b62e8a6feb",
   "metadata": {},
   "outputs": [
    {
     "name": "stdout",
     "output_type": "stream",
     "text": [
      "Default Mode: 我/来到/北京/清华大学\n"
     ]
    }
   ],
   "source": [
    "seg_list = jieba.cut(\"我来到北京清华大学\", cut_all=False)\n",
    "print(\"Default Mode: \" + \"/\".join(seg_list)) # 精确模式"
   ]
  },
  {
   "cell_type": "markdown",
   "id": "5b7cad11-008e-4ca1-85f2-18ac188b9a89",
   "metadata": {},
   "source": [
    "### 搜索引擎模式"
   ]
  },
  {
   "cell_type": "code",
   "execution_count": 5,
   "id": "db056db2-2bf4-4145-9edc-79af175b6046",
   "metadata": {},
   "outputs": [
    {
     "name": "stdout",
     "output_type": "stream",
     "text": [
      "小明, 硕士, 毕业, 于, 中国, 科学, 学院, 科学院, 中国科学院, 计算, 计算所, ，, 后, 在, 日本, 京都, 大学, 日本京都大学, 深造\n"
     ]
    }
   ],
   "source": [
    "seg_list = jieba.cut_for_search(\"小明硕士毕业于中国科学院计算所，后在日本京都大学深造\")\n",
    "print(\", \".join(seg_list))"
   ]
  },
  {
   "cell_type": "markdown",
   "id": "551663d9-5608-4001-99ea-797d5fc1665b",
   "metadata": {},
   "source": [
    "## 载入词典"
   ]
  },
  {
   "cell_type": "code",
   "execution_count": 2,
   "id": "00574160-ded9-4140-a5aa-197279a1ce7a",
   "metadata": {},
   "outputs": [
    {
     "name": "stderr",
     "output_type": "stream",
     "text": [
      "Building prefix dict from the default dictionary ...\n",
      "Loading model from cache /tmp/jieba.cache\n",
      "Loading model cost 0.350 seconds.\n",
      "Prefix dict has been built successfully.\n"
     ]
    },
    {
     "name": "stdout",
     "output_type": "stream",
     "text": [
      "Default Mode: 曾一顺/即将/是/自然语言/处理/方面/的/高手\n"
     ]
    }
   ],
   "source": [
    "import jieba\n",
    "jieba.load_userdict(\"userdict.txt\")\n",
    "seg_list = jieba.cut(\"曾一顺即将是自然语言处理方面的高手\", cut_all=False, HMM=False)\n",
    "print(\"Default Mode: \" + \"/\".join(seg_list))"
   ]
  },
  {
   "cell_type": "code",
   "execution_count": null,
   "id": "db5d284f-a01e-4d45-84fb-dd9fe1d6e7ac",
   "metadata": {},
   "outputs": [],
   "source": []
  }
 ],
 "metadata": {
  "kernelspec": {
   "display_name": "Python 3 (ipykernel)",
   "language": "python",
   "name": "python3"
  },
  "language_info": {
   "codemirror_mode": {
    "name": "ipython",
    "version": 3
   },
   "file_extension": ".py",
   "mimetype": "text/x-python",
   "name": "python",
   "nbconvert_exporter": "python",
   "pygments_lexer": "ipython3",
   "version": "3.9.21"
  }
 },
 "nbformat": 4,
 "nbformat_minor": 5
}
